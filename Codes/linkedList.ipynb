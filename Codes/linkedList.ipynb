{
 "cells": [
  {
   "cell_type": "code",
   "execution_count": 1,
   "metadata": {},
   "outputs": [],
   "source": [
    "class No:\n",
    "  def __init__(self, value = None) -> None:\n",
    "    self.value = value\n",
    "    self.next = None\n",
    "\n",
    "  def showItem(self):\n",
    "    return self.value"
   ]
  },
  {
   "cell_type": "code",
   "execution_count": 2,
   "metadata": {},
   "outputs": [],
   "source": [
    "class LinkedList:\n",
    "  def __init__(self):\n",
    "    self.current = None\n",
    "\n",
    "  def insert(self, value):\n",
    "    NoItem = No(value)\n",
    "    NoItem.next = self.current\n",
    "    self.current = NoItem\n",
    "\n",
    "  def show(self):\n",
    "    try:\n",
    "      \n",
    "      atual = self.current\n",
    "      while atual != None:\n",
    "        print(atual.showItem())\n",
    "        atual = atual.next\n",
    "\n",
    "\n",
    "    except AttributeError:\n",
    "      pass\n",
    "\n",
    "    "
   ]
  },
  {
   "cell_type": "code",
   "execution_count": 3,
   "metadata": {},
   "outputs": [
    {
     "name": "stdout",
     "output_type": "stream",
     "text": [
      "2\n",
      "1\n"
     ]
    }
   ],
   "source": [
    "\n",
    "l = LinkedList()\n",
    "l.insert(1)\n",
    "l.insert(2)\n",
    "\n",
    "l.show()"
   ]
  }
 ],
 "metadata": {
  "kernelspec": {
   "display_name": "Python 3.10.6 64-bit",
   "language": "python",
   "name": "python3"
  },
  "language_info": {
   "codemirror_mode": {
    "name": "ipython",
    "version": 3
   },
   "file_extension": ".py",
   "mimetype": "text/x-python",
   "name": "python",
   "nbconvert_exporter": "python",
   "pygments_lexer": "ipython3",
   "version": "3.10.6"
  },
  "orig_nbformat": 4,
  "vscode": {
   "interpreter": {
    "hash": "916dbcbb3f70747c44a77c7bcd40155683ae19c65e1c03b4aa3499c5328201f1"
   }
  }
 },
 "nbformat": 4,
 "nbformat_minor": 2
}
