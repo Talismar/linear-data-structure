{
 "cells": [
  {
   "cell_type": "markdown",
   "metadata": {},
   "source": [
    "1. Elabore um quadro comparativo entre a implementação de uma lista linear com alocação sequencial e uma lista encadeada. Destaque as vantagens e desvantagens de cada uma em relação a performance nos algoritmos de inseŗção, remoção, busca e uso de memória. Em que tipo de situação a alocação sequencial  ́e preferível à encadeada?\n",
    "\n",
    "Vantagens em lista sequencial\n",
    " - Acesso aos elementos de forma direta por meio de indexação.\n",
    " - Fácil remoção ou substituição de um item da lista caso informe a posição do item\n",
    " - Podemos usar o algoritmo de buscar binária quando queremos efetuar alguma buscar na lista ordenada\n",
    "\n",
    "Desvantagem em lista sequencial\n",
    " - Perca de espaço disponivel da mémoria caso o meu total de itens seja muito inferior ao tamanho da lista definida.\n",
    " - Inserir itens de forma ordenada na lista, pois caso preciso inserir um item no meio da lista eu preciso re-arranjar\n",
    "   os demais itens.\n",
    "\n",
    "Vantagens em lista encadeadas\n",
    " - Alocação dinâmica, ou seja pode armazenar informações em qualquer espaço \n",
    "   disponivel na mémoria que não necessariamente esteja vizinhos.\n",
    " - Consigo inserir um dado no meio de uma lista sem precisar de re-arranjar a lista inteira.\n",
    "\n",
    "Desvantagem em lista encadeadas\n",
    " - Os itens da lista ocupa um espaço maior na lista, devido cada item ter que armazenar um endereço\n",
    "   para o proximo.\n",
    " - Acesso aos elementos para efetuar alguma ação pode ser muito custoso devido a falta de indexação.\n",
    " - Não suporta buscar binária devido os items não estarem em acessivel por meio de indexação\n",
    " \n",
    "A alocação sequencial deve ser preferível sempre que precisamos armazenar poucos dados no vetor, e quando queremos um acesso aos dados de forma rápida (indexação);"
   ]
  },
  {
   "cell_type": "code",
   "execution_count": 1,
   "metadata": {},
   "outputs": [],
   "source": [
    "class No:\n",
    "  def __init__(self, value):\n",
    "    self.value = value\n",
    "    self.next  = None"
   ]
  },
  {
   "cell_type": "code",
   "execution_count": 2,
   "metadata": {},
   "outputs": [],
   "source": [
    "class LinkedList:\n",
    "  def __init__(self, head=None):\n",
    "    self.head = head\n",
    "\n",
    "  def inserir(self, value):\n",
    "    no = No(value)\n",
    "    no.next = self.head\n",
    "    self.head = no\n",
    "\n",
    "  def remove(self):\n",
    "    self.head = self.head.next\n",
    "\n",
    "  def __str__(self):\n",
    "    current = self.head\n",
    "    \n",
    "    while current != None:\n",
    "      print(current.value, end=\", \")\n",
    "      current = current.next\n",
    "\n",
    "    return str()\n",
    "\n",
    "  def search(self, value):\n",
    "    current = self.head\n",
    "    \n",
    "    while current != None:\n",
    "      # print(\"--\", current.value)\n",
    "      if current.value == value:\n",
    "        return True\n",
    "\n",
    "      current = current.next \n",
    "\n",
    "    return False\n",
    "\n",
    "  def length(self):\n",
    "    current = self.head\n",
    "    size = 0\n",
    "    \n",
    "    while current != None:\n",
    "      size += 1\n",
    "      current = current.next\n",
    "\n",
    "    return size\n",
    "\n",
    "  def count(self, value):\n",
    "    current = self.head\n",
    "    aux = 0\n",
    "\n",
    "    while current != None:\n",
    "      if current.value == value:\n",
    "        aux+=1\n",
    "\n",
    "      current = current.next\n",
    "\n",
    "    return aux\n",
    "\n",
    "  def compare(self, list01, list02):\n",
    "    current01 = list01.head\n",
    "    current02 = list02.head\n",
    "\n",
    "    while (current01 != None) and (current02 != None):\n",
    "      if current01.value != current02.value:\n",
    "        return False\n",
    "\n",
    "      current01 = current01.next\n",
    "      current02 = current02.next\n",
    "\n",
    "    return True\n",
    "\n",
    "  def reverse(self):\n",
    "    current = self.head\n",
    "    aux = 0\n",
    "\n",
    "    while(current != None):\n",
    "        next = current.next\n",
    "\n",
    "        if aux == 0:\n",
    "          current.next = None\n",
    "          aux += 1\n",
    "        else:\n",
    "          current.next = self.head\n",
    "\n",
    "        self.head = current\n",
    "        current = next"
   ]
  },
  {
   "cell_type": "code",
   "execution_count": 5,
   "metadata": {},
   "outputs": [
    {
     "name": "stdout",
     "output_type": "stream",
     "text": [
      "5, 4, 3, 2, 1, 0, \n",
      "5, 4, 3, 2, 1, 0, \n",
      "0, 1, 2, 3, 4, 5, \n"
     ]
    },
    {
     "data": {
      "text/plain": [
       "True"
      ]
     },
     "execution_count": 5,
     "metadata": {},
     "output_type": "execute_result"
    }
   ],
   "source": [
    "myList = LinkedList()\n",
    "\n",
    "for i in [0,1,2,3,4,5]:\n",
    "  myList.inserir(i)\n",
    "\n",
    "print(myList)\n",
    "\n",
    "list01 = myList\n",
    "list02 = LinkedList()\n",
    "list02.inserir(5)\n",
    "\n",
    "print(myList)\n",
    "myList.reverse()\n",
    "print(myList)\n",
    "\n",
    "LinkedList().compare(list01, list01)"
   ]
  }
 ],
 "metadata": {
  "kernelspec": {
   "display_name": "Python 3.10.6 64-bit",
   "language": "python",
   "name": "python3"
  },
  "language_info": {
   "codemirror_mode": {
    "name": "ipython",
    "version": 3
   },
   "file_extension": ".py",
   "mimetype": "text/x-python",
   "name": "python",
   "nbconvert_exporter": "python",
   "pygments_lexer": "ipython3",
   "version": "3.10.6 (main, Nov 14 2022, 16:10:14) [GCC 11.3.0]"
  },
  "orig_nbformat": 4,
  "vscode": {
   "interpreter": {
    "hash": "916dbcbb3f70747c44a77c7bcd40155683ae19c65e1c03b4aa3499c5328201f1"
   }
  }
 },
 "nbformat": 4,
 "nbformat_minor": 2
}
