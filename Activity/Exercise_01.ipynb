{
 "cells": [
  {
   "cell_type": "code",
   "execution_count": 5,
   "metadata": {},
   "outputs": [
    {
     "name": "stdout",
     "output_type": "stream",
     "text": [
      "2\n"
     ]
    }
   ],
   "source": [
    "# 1 - negativo\n",
    "\n",
    "values = []\n",
    "message = \"Enter an integer value: \"\n",
    "\n",
    "[values.append(int(input(message))) for _ in range(5)]\n",
    "\n",
    "count = 0\n",
    "for i in values:\n",
    "  count += 1 if i < 0 else 0\n",
    "\n",
    "print(count)"
   ]
  },
  {
   "cell_type": "code",
   "execution_count": 32,
   "metadata": {},
   "outputs": [
    {
     "name": "stdout",
     "output_type": "stream",
     "text": [
      "Between 0 to 24: 2 values, with one percent of: 40.0%\n",
      "Between 25 to 49: 1 values, with one percent of: 20.0%\n",
      "Between 50 to 74: 1 values, with one percent of: 20.0%\n",
      "Between 75 to 100: 1 values, with one percent of: 20.0%\n"
     ]
    }
   ],
   "source": [
    "# 2 - Intervalos |-| a <= x < b = [a,b)\n",
    "\n",
    "dict_for_range = {\n",
    "  \"0_to_24\": [],\n",
    "  \"25_to_49\": [],\n",
    "  \"50_to_74\": [],\n",
    "  \"75_to_100\": []\n",
    "}\n",
    "\n",
    "count = 0\n",
    "while input(\"1 Add Values | 0 Finish program!!!\") == \"1\":\n",
    "  value = int(input(\"Enter a valid number: \"))\n",
    "  \n",
    "  for k, v in dict_for_range.items():\n",
    "    interval = k.split(\"_to_\")\n",
    "\n",
    "    if value in range(int(interval[0]), int(interval[1])+1):\n",
    "      dict_for_range[k].append(value)\n",
    "\n",
    "  count += 1  \n",
    "\n",
    "for k, v in dict_for_range.items():\n",
    "  interval = k.split(\"_to_\")\n",
    "\n",
    "  print(\"Between {} to {}: {} values, with one percent of: {}%\".format(interval[0], interval[1], len(v), (len(v) / count) * 100))"
   ]
  },
  {
   "cell_type": "code",
   "execution_count": 18,
   "metadata": {},
   "outputs": [
    {
     "name": "stdout",
     "output_type": "stream",
     "text": [
      "Repeat!!!\n",
      "Sum:  3\n"
     ]
    }
   ],
   "source": [
    "# 3 - soma pares\n",
    "\n",
    "while True:\n",
    "\n",
    "  try: \n",
    "    value_n = int(input(\"Enter a valid number: \"))\n",
    "\n",
    "    if value_n == 0:\n",
    "      break\n",
    "\n",
    "    value_m = int(input(\"Enter a valid number: \"))\n",
    "\n",
    "    if value_m == 0:\n",
    "      break\n",
    "    elif value_m > 0 and value_n > 0:\n",
    "      print(\"Sum: \" , (value_m + value_n))\n",
    "    else:\n",
    "      print(\"Repeat!!!\")\n",
    "\n",
    "  except ValueError:\n",
    "    print(\"Value Error!!!\")\n",
    "\n"
   ]
  },
  {
   "cell_type": "code",
   "execution_count": 45,
   "metadata": {},
   "outputs": [
    {
     "name": "stdout",
     "output_type": "stream",
     "text": [
      "1 - 1 - 2 - 3 - 5 - 8 - 13 - 21 - 34 - 55 - 89\n"
     ]
    }
   ],
   "source": [
    "# 4 - fin01\n",
    "\n",
    "L = 100\n",
    "m, n = 1,1\n",
    "f = [1,1]\n",
    "\n",
    "while m + n < L:\n",
    "  f.append(m + n)\n",
    "  m, n = n + m, m\n",
    "\n",
    "print(\" - \".join([str(i) for i in f]))"
   ]
  },
  {
   "cell_type": "code",
   "execution_count": 2,
   "metadata": {},
   "outputs": [
    {
     "name": "stdout",
     "output_type": "stream",
     "text": [
      "5, -6, \n",
      "Index: 1 - Value: -6\n"
     ]
    }
   ],
   "source": [
    "# 5 - menor_elemento\n",
    "\n",
    "A = list()\n",
    "\n",
    "for i in range(5):\n",
    "  A.append(int(input(\"Enter a value: \")))\n",
    "  print(A[i], end=\", \")\n",
    "\n",
    "print(end=\"\\n\")\n",
    "\n",
    "print(\"Index: {} - Value: {}\".format(A.index(min(A)), min(A)))"
   ]
  },
  {
   "cell_type": "code",
   "execution_count": 26,
   "metadata": {},
   "outputs": [
    {
     "name": "stdout",
     "output_type": "stream",
     "text": [
      "20, 5, 6, 4, \n",
      "[4, 6, 5, 20]\n"
     ]
    }
   ],
   "source": [
    "# 6 - troca_interna\n",
    "\n",
    "A = []\n",
    "\n",
    "for i in range(4):\n",
    "  A.append(int(input(\"Enter a value: \")))\n",
    "  print(A[i], end=\", \")\n",
    "\n",
    "print(end=\"\\n\")\n",
    "\n",
    "m = len(A) - 1\n",
    "for i in range(0, len(A) // 2):\n",
    "  A[i], A[m] = A[m], A[i]\n",
    "\n",
    "  m -= 1\n",
    "\n",
    "print(A)"
   ]
  },
  {
   "cell_type": "code",
   "execution_count": 84,
   "metadata": {},
   "outputs": [
    {
     "name": "stdout",
     "output_type": "stream",
     "text": [
      "1, 2, 3, 4, \n",
      "Not found!!!\n",
      "Not found!!!\n",
      "[2, 4, 3, 1]\n"
     ]
    }
   ],
   "source": [
    "# 7 - troca_seguintes_vet\n",
    "\n",
    "def swap(vector, old, new):\n",
    "  vector[old], vector[new] = vector[new], vector[old]\n",
    "  return vector\n",
    "\n",
    "B = []\n",
    "\n",
    "for i in range(4):\n",
    "  B.append(int(input(\"Enter a value: \")))\n",
    "  print(B[i], end=\", \")\n",
    "\n",
    "print(end=\"\\n\")\n",
    "\n",
    "for e, i in enumerate(B):\n",
    "  if i % 2 != 0:\n",
    "\n",
    "    if any([True for _ in B[e+1:] if _ % 2 == 0]):\n",
    "      \n",
    "      old = e\n",
    "      for j in B[e+1:]:\n",
    "\n",
    "        if j % 2 == 0:\n",
    "          swap(B, old, B.index(j, old+1))\n",
    "          old += 1\n",
    "          \n",
    "\n",
    "    else:\n",
    "      print(\"Not found!!!\")\n",
    "\n",
    "print(B)\n",
    "      "
   ]
  },
  {
   "cell_type": "code",
   "execution_count": 34,
   "metadata": {},
   "outputs": [
    {
     "name": "stdout",
     "output_type": "stream",
     "text": [
      "0, 1, ,  , \n"
     ]
    },
    {
     "data": {
      "text/plain": [
       "[0, 1]"
      ]
     },
     "execution_count": 34,
     "metadata": {},
     "output_type": "execute_result"
    }
   ],
   "source": [
    "# 8 - compacta_vet\n",
    "\n",
    "C = []\n",
    "\n",
    "for i in range(4):\n",
    "\n",
    "  input_ = input(\"Enter a value: \")\n",
    "  try:\n",
    "    C.append(int(input_) )\n",
    "  except: \n",
    "    C.append(input_)\n",
    "\n",
    "  print(C[i], end=\", \")\n",
    "\n",
    "print(end=\"\\n\")\n",
    "\n",
    "for i in range(0,len(C)):\n",
    "  try:\n",
    "    while C[i] in [\" \", \"\", None] or C[i] < 0:\n",
    "      del C[i] \n",
    "      \n",
    "  except IndexError:\n",
    "    continue    \n",
    "C"
   ]
  }
 ],
 "metadata": {
  "kernelspec": {
   "display_name": "Python 3.10.6 64-bit",
   "language": "python",
   "name": "python3"
  },
  "language_info": {
   "codemirror_mode": {
    "name": "ipython",
    "version": 3
   },
   "file_extension": ".py",
   "mimetype": "text/x-python",
   "name": "python",
   "nbconvert_exporter": "python",
   "pygments_lexer": "ipython3",
   "version": "3.10.6"
  },
  "orig_nbformat": 4,
  "vscode": {
   "interpreter": {
    "hash": "916dbcbb3f70747c44a77c7bcd40155683ae19c65e1c03b4aa3499c5328201f1"
   }
  }
 },
 "nbformat": 4,
 "nbformat_minor": 2
}
