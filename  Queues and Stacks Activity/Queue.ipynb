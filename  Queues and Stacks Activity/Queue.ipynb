{
 "cells": [
  {
   "cell_type": "code",
   "execution_count": 1,
   "metadata": {},
   "outputs": [],
   "source": [
    "class Queue:\n",
    "    def __init__(self, dim):\n",
    "        self.dim = dim\n",
    "        self.last = 0\n",
    "        self.first = 0\n",
    "        self.fila = [None] * dim \n",
    "\n",
    "    def fullQueue(self):\n",
    "        if None in self.fila:\n",
    "            return False \n",
    "        else: \n",
    "            return True\n",
    "\n",
    "    def insert(self, value):\n",
    "        if not self.fullQueue():\n",
    "            if self.last == self.dim:\n",
    "                self.last = 0\n",
    "            \n",
    "            self.fila[self.last] = value\n",
    "            self.last += 1\n",
    "            \n",
    "        else:\n",
    "            print(\"Full Queue!!!\")\n",
    "\n",
    "    def remove(self):\n",
    "        if self.first == self.dim:\n",
    "            self.first = 0\n",
    "        \n",
    "        if self.fila[self.first] != None:\n",
    "            self.fila[self.first] = None\n",
    "            self.first += 1\n",
    "        \n",
    "        else:\n",
    "            print(\"Empty Queue!!!\")"
   ]
  },
  {
   "cell_type": "code",
   "execution_count": 2,
   "metadata": {},
   "outputs": [
    {
     "name": "stdout",
     "output_type": "stream",
     "text": [
      "[0, None, None, None, None]\n",
      "[None, 1, None, None, None]\n",
      "[None, None, 2, None, None]\n",
      "[None, None, None, 3, None]\n",
      "[None, None, None, None, 4]\n",
      "[5, None, None, None, None]\n",
      "[None, 6, None, None, None]\n",
      "[None, None, 7, None, None]\n",
      "[None, None, None, 8, None]\n",
      "[None, None, None, None, 9]\n",
      "[10, None, None, None, None]\n",
      "[None, 11, None, None, None]\n",
      "[None, None, 12, None, None]\n",
      "[None, None, None, 13, None]\n",
      "[None, None, None, None, 14]\n",
      "[15, None, None, None, None]\n",
      "[None, 16, None, None, None]\n",
      "[None, None, 17, None, None]\n",
      "[None, None, None, 18, None]\n",
      "[None, None, None, None, 19]\n",
      "[20, None, None, None, None]\n"
     ]
    }
   ],
   "source": [
    "f = Queue(5)\n",
    "\n",
    "for i in range(0,21):\n",
    "    f.insert(i)\n",
    "    print(f.fila)\n",
    "    f.remove()"
   ]
  },
  {
   "cell_type": "code",
   "execution_count": 83,
   "metadata": {},
   "outputs": [
    {
     "data": {
      "text/plain": [
       "1"
      ]
     },
     "execution_count": 83,
     "metadata": {},
     "output_type": "execute_result"
    }
   ],
   "source": [
    "f.first"
   ]
  },
  {
   "cell_type": "code",
   "execution_count": 84,
   "metadata": {},
   "outputs": [
    {
     "data": {
      "text/plain": [
       "1"
      ]
     },
     "execution_count": 84,
     "metadata": {},
     "output_type": "execute_result"
    }
   ],
   "source": [
    "f.last"
   ]
  }
 ],
 "metadata": {
  "kernelspec": {
   "display_name": "Python 3",
   "language": "python",
   "name": "python3"
  },
  "language_info": {
   "codemirror_mode": {
    "name": "ipython",
    "version": 3
   },
   "file_extension": ".py",
   "mimetype": "text/x-python",
   "name": "python",
   "nbconvert_exporter": "python",
   "pygments_lexer": "ipython3",
   "version": "3.10.6 (main, Nov 14 2022, 16:10:14) [GCC 11.3.0]"
  },
  "vscode": {
   "interpreter": {
    "hash": "31f2aee4e71d21fbe5cf8b01ff0e069b9275f58929596ceb00d14d90e3e16cd6"
   }
  }
 },
 "nbformat": 4,
 "nbformat_minor": 2
}
