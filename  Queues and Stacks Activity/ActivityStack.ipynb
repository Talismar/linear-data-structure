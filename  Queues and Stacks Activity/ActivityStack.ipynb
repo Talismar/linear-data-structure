{
 "cells": [
  {
   "cell_type": "code",
   "execution_count": 1,
   "metadata": {},
   "outputs": [
    {
     "data": {
      "text/plain": [
       "' \\n  Verificar se a expressão está correta  \\n'"
      ]
     },
     "execution_count": 1,
     "metadata": {},
     "output_type": "execute_result"
    }
   ],
   "source": [
    "\"\"\" \n",
    "  Verificar se a expressão está correta  \n",
    "\"\"\""
   ]
  },
  {
   "cell_type": "code",
   "execution_count": 2,
   "metadata": {},
   "outputs": [],
   "source": [
    "class Stack:\n",
    "  def __init__(self, lenght):\n",
    "    self.lenght = lenght\n",
    "    self.top = 0\n",
    "    self.stack = [None] * lenght\n",
    "\n",
    "  def showTop(self):\n",
    "    if self.top == 0:\n",
    "      return \"Empyt Stack\"\n",
    "\n",
    "    return self.stack[self.top - 1]\n",
    "\n",
    "  def stackUp(self, value):\n",
    "    if self.top < self.lenght and value in [\"[\", \"(\", \"{\"]:\n",
    "      self.stack[self.top] = value\n",
    "      self.top += 1\n",
    "      return \"OK \" + str(value)\n",
    "\n",
    "    elif self.top == self.lenght:\n",
    "      return \"Full Stack\"\n",
    "    \n",
    "    else:\n",
    "      match self.showTop():\n",
    "        case \"[\":\n",
    "          if value == \"]\":\n",
    "            self.unstack()\n",
    "            return True\n",
    "        case \"(\":\n",
    "          if value == \")\":\n",
    "            self.unstack()\n",
    "            return True\n",
    "        case \"{\":\n",
    "          if value == \"}\":\n",
    "            self.unstack()\n",
    "            return True\n",
    "        \n",
    "\n",
    "  def unstack(self):\n",
    "    if self.top > 0:\n",
    "      self.top -= 1\n",
    "      self.stack[self.top] = None  \n",
    "\n",
    "    else:\n",
    "      return \"Empty Stack\"\n",
    "\n",
    "  def __str__(self):\n",
    "    \n",
    "    ret = \"\"\n",
    "\n",
    "    for i in self.stack:\n",
    "      if i == None:\n",
    "        ret += \"\"\n",
    "        continue\n",
    "\n",
    "      ret += str(i)\n",
    "\n",
    "    return ret\n",
    "    "
   ]
  },
  {
   "cell_type": "code",
   "execution_count": 12,
   "metadata": {},
   "outputs": [],
   "source": [
    "stack = Stack(2)"
   ]
  },
  {
   "cell_type": "code",
   "execution_count": 13,
   "metadata": {},
   "outputs": [
    {
     "data": {
      "text/plain": [
       "'Empyt Stack'"
      ]
     },
     "execution_count": 13,
     "metadata": {},
     "output_type": "execute_result"
    }
   ],
   "source": [
    "stack.showTop()"
   ]
  },
  {
   "cell_type": "code",
   "execution_count": 14,
   "metadata": {},
   "outputs": [
    {
     "name": "stdout",
     "output_type": "stream",
     "text": [
      "OK [\n",
      "True\n"
     ]
    }
   ],
   "source": [
    "print(stack.stackUp(\"[\"))\n",
    "print(stack.stackUp(\"]\"))"
   ]
  },
  {
   "cell_type": "code",
   "execution_count": 15,
   "metadata": {},
   "outputs": [
    {
     "data": {
      "text/plain": [
       "'Empty Stack'"
      ]
     },
     "execution_count": 15,
     "metadata": {},
     "output_type": "execute_result"
    }
   ],
   "source": [
    "stack.unstack()"
   ]
  },
  {
   "cell_type": "code",
   "execution_count": 16,
   "metadata": {},
   "outputs": [
    {
     "name": "stdout",
     "output_type": "stream",
     "text": [
      "\n"
     ]
    }
   ],
   "source": [
    "print(stack)"
   ]
  },
  {
   "cell_type": "code",
   "execution_count": 17,
   "metadata": {},
   "outputs": [],
   "source": [
    "class Stack02:\n",
    "  def __init__(self, lenght):\n",
    "    self.lenght = lenght\n",
    "    self.top = 0\n",
    "    self.stack = [None] * lenght\n",
    "\n",
    "  def showTop(self):\n",
    "    if self.top == 0:\n",
    "      return \"Empyt Stack\"\n",
    "\n",
    "    return self.stack[self.top - 1]\n",
    "\n",
    "  def stackUp(self, value):\n",
    "    if self.top < self.lenght:\n",
    "      self.stack[self.top] = value\n",
    "      self.top += 1\n",
    "      print(\"OK \" + str(value))\n",
    "\n",
    "    elif self.top == self.lenght:\n",
    "      print(\"Full Stack\")\n",
    "        \n",
    "\n",
    "  def unstack(self):\n",
    "    if self.top > 0:\n",
    "      self.top -= 1\n",
    "      self.stack[self.top] = None  \n",
    "\n",
    "    else:\n",
    "      return \"Empty Stack\"\n",
    "\n",
    "  def console(self):\n",
    "    \n",
    "    ret = []\n",
    "\n",
    "    for i in self.stack:\n",
    "      if i == None:\n",
    "        ret += \"\"\n",
    "        continue\n",
    "\n",
    "      ret.append(i)\n",
    "\n",
    "    return ret\n",
    "    "
   ]
  },
  {
   "cell_type": "code",
   "execution_count": 18,
   "metadata": {},
   "outputs": [],
   "source": [
    "stack = Stack02(5)"
   ]
  },
  {
   "cell_type": "code",
   "execution_count": 19,
   "metadata": {},
   "outputs": [
    {
     "name": "stdout",
     "output_type": "stream",
     "text": [
      "OK 1\n",
      "OK 2\n",
      "OK 3\n",
      "OK 4\n",
      "OK 5\n"
     ]
    },
    {
     "data": {
      "text/plain": [
       "[1, 2, 3, 4, 5]"
      ]
     },
     "execution_count": 19,
     "metadata": {},
     "output_type": "execute_result"
    }
   ],
   "source": [
    "[stack.stackUp(i) for i in [1,2,3,4,5]]\n",
    "\n",
    "stack.console()"
   ]
  },
  {
   "cell_type": "code",
   "execution_count": 20,
   "metadata": {},
   "outputs": [
    {
     "name": "stdout",
     "output_type": "stream",
     "text": [
      "OK 1\n",
      "OK 2\n",
      "OK 3\n",
      "OK 4\n",
      "OK 5\n"
     ]
    },
    {
     "data": {
      "text/plain": [
       "[None, None, None, None, None]"
      ]
     },
     "execution_count": 20,
     "metadata": {},
     "output_type": "execute_result"
    }
   ],
   "source": [
    "stack_r = Stack02(5)\n",
    "\n",
    "[stack_r.stackUp(i) for i in stack.stack]"
   ]
  }
 ],
 "metadata": {
  "kernelspec": {
   "display_name": "Python 3 (ipykernel)",
   "language": "python",
   "name": "python3"
  },
  "language_info": {
   "codemirror_mode": {
    "name": "ipython",
    "version": 3
   },
   "file_extension": ".py",
   "mimetype": "text/x-python",
   "name": "python",
   "nbconvert_exporter": "python",
   "pygments_lexer": "ipython3",
   "version": "3.10.6 (main, Nov 14 2022, 16:10:14) [GCC 11.3.0]"
  },
  "vscode": {
   "interpreter": {
    "hash": "916dbcbb3f70747c44a77c7bcd40155683ae19c65e1c03b4aa3499c5328201f1"
   }
  }
 },
 "nbformat": 4,
 "nbformat_minor": 2
}
