{
 "cells": [
  {
   "cell_type": "code",
   "execution_count": 10,
   "metadata": {},
   "outputs": [],
   "source": [
    "class No:\n",
    "  def __init__(self, value):\n",
    "    self.value = value\n",
    "    self.prev = None\n",
    "    self.next = None"
   ]
  },
  {
   "cell_type": "code",
   "execution_count": 32,
   "metadata": {},
   "outputs": [],
   "source": [
    "class DoublyLinkedList:\n",
    "  def __init__(self) -> None:\n",
    "    self.head = None\n",
    "    self.tail = None\n",
    "\n",
    "  def append_left(self, value):\n",
    "    no = No(value)\n",
    "    \n",
    "    if self.head == None:\n",
    "      self.tail = no\n",
    "      self.head = no \n",
    "      return\n",
    "    \n",
    "    self.head.prev = no\n",
    "    no.next = self.head\n",
    "    self.head = no\n",
    "\n",
    "  def append_right(self, value):\n",
    "    no = No(value)\n",
    "\n",
    "    if self.tail == None:\n",
    "      self.head = no\n",
    "      self.tail = no\n",
    "      return\n",
    "\n",
    "    self.tail.next = no\n",
    "    no.prev = self.tail\n",
    "    self.tail = no  \n",
    "\n",
    "  def pop_left(self):\n",
    "    if self.head != None:\n",
    "\n",
    "      if self.head.next == None:\n",
    "        self.tail = None \n",
    "      \n",
    "      self.head = self.head.next\n",
    "\n",
    "    return 'Clear'      \n",
    "\n",
    "  def pop_right(self):\n",
    "    if self.tail != None:\n",
    "      # print(\"remove\", self.tail.prev.value)\n",
    "      self.tail = self.tail.prev\n",
    "      self.tail.next = None\n",
    "\n",
    "  def __str__(self):\n",
    "    ret = \"[\"\n",
    "\n",
    "    current = self.head\n",
    "\n",
    "    while current != None:\n",
    "      ret += str(current.value) + \", \"\n",
    "\n",
    "      current = current.next\n",
    "    \n",
    "    return ret[:-2] + ']' if len(ret) > 1 else '[]'\n",
    "      "
   ]
  },
  {
   "cell_type": "code",
   "execution_count": 34,
   "metadata": {},
   "outputs": [
    {
     "name": "stdout",
     "output_type": "stream",
     "text": [
      "[4, 1]\n"
     ]
    }
   ],
   "source": [
    "l = DoublyLinkedList()\n",
    "l.append_left(4)\n",
    "l.append_left(3)\n",
    "l.append_right(1)\n",
    "l.append_right(6)\n",
    "\n",
    "l.pop_left()\n",
    "l.pop_right()\n",
    "print(l)\n"
   ]
  }
 ],
 "metadata": {
  "kernelspec": {
   "display_name": "Python 3",
   "language": "python",
   "name": "python3"
  },
  "language_info": {
   "codemirror_mode": {
    "name": "ipython",
    "version": 3
   },
   "file_extension": ".py",
   "mimetype": "text/x-python",
   "name": "python",
   "nbconvert_exporter": "python",
   "pygments_lexer": "ipython3",
   "version": "3.10.6"
  },
  "orig_nbformat": 4,
  "vscode": {
   "interpreter": {
    "hash": "916dbcbb3f70747c44a77c7bcd40155683ae19c65e1c03b4aa3499c5328201f1"
   }
  }
 },
 "nbformat": 4,
 "nbformat_minor": 2
}
