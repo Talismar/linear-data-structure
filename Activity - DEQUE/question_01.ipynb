{
 "cells": [
  {
   "cell_type": "code",
   "execution_count": 257,
   "metadata": {},
   "outputs": [],
   "source": [
    "class Queue:\n",
    "    def __init__(self, dim):\n",
    "        self.dim = dim\n",
    "        self.last = 0\n",
    "        self.first = 0\n",
    "        self.fila = [None] * dim \n",
    "\n",
    "    def fullQueue(self):\n",
    "        if None in self.fila:\n",
    "            return False \n",
    "        else: \n",
    "            return True\n",
    "\n",
    "    def appendleft(self, value):\n",
    "        if self.first == self.dim:\n",
    "            self.first = 0\n",
    "\n",
    "        if not self.fullQueue():\n",
    "            if self.fila[self.first] == None:\n",
    "                self.fila[self.first] = value\n",
    "                self.last += 1\n",
    "            \n",
    "        else:\n",
    "            print(\"Full Queue!!!\")\n",
    "    \n",
    "    def appendright(self, value):\n",
    "        if not self.fullQueue():\n",
    "            if self.last == self.dim:\n",
    "                self.last = 0\n",
    "            \n",
    "            self.fila[self.last] = value\n",
    "            self.last += 1\n",
    "            \n",
    "        else:\n",
    "            print(\"Full Queue!!!\")\n",
    "\n",
    "    def popleft(self):\n",
    "        if self.first == self.dim:\n",
    "            self.first = 0\n",
    "        \n",
    "        if self.fila[self.first] != None:\n",
    "            self.fila[self.first] = None\n",
    "            self.first += 1\n",
    "        \n",
    "        else:\n",
    "            print(\"Empty Queue!!!\")\n",
    "\n",
    "    def popright(self):\n",
    "\n",
    "        try:\n",
    "            if self.fila[self.last] == None:\n",
    "                self.fila[self.last-1] = None\n",
    "                self.last -= 1\n",
    "\n",
    "            elif self.fila[self.last] != None:\n",
    "                self.fila[self.last] = None\n",
    "                # self.last -= 1\n",
    "            \n",
    "            else:\n",
    "                print(\"Empty Queue!!!\")\n",
    "\n",
    "        except IndexError:\n",
    "            if self.fila[self.last-1] == None:\n",
    "                self.fila[self.last-1] = None\n",
    "                self.last -= 1\n",
    "\n",
    "            elif self.fila[self.last-1] != None:\n",
    "                self.fila[self.last-1] = None\n",
    "                self.last -= 1\n",
    "\n",
    "            else:\n",
    "                print(\"Empty Queue!!!\")"
   ]
  },
  {
   "cell_type": "code",
   "execution_count": 266,
   "metadata": {},
   "outputs": [
    {
     "data": {
      "text/plain": [
       "[None, None, None, None, None]"
      ]
     },
     "execution_count": 266,
     "metadata": {},
     "output_type": "execute_result"
    }
   ],
   "source": [
    "que = Queue(5)\n",
    "que.fila"
   ]
  },
  {
   "cell_type": "code",
   "execution_count": 276,
   "metadata": {},
   "outputs": [
    {
     "data": {
      "text/plain": [
       "[None, None, None, 20, None]"
      ]
     },
     "execution_count": 276,
     "metadata": {},
     "output_type": "execute_result"
    }
   ],
   "source": [
    "que.appendleft(20)\n",
    "que.fila"
   ]
  },
  {
   "cell_type": "code",
   "execution_count": 269,
   "metadata": {},
   "outputs": [
    {
     "data": {
      "text/plain": [
       "[20, 0, 0, None, None]"
      ]
     },
     "execution_count": 269,
     "metadata": {},
     "output_type": "execute_result"
    }
   ],
   "source": [
    "que.appendright(0)\n",
    "que.fila"
   ]
  },
  {
   "cell_type": "code",
   "execution_count": 278,
   "metadata": {},
   "outputs": [],
   "source": [
    "que.popleft()"
   ]
  },
  {
   "cell_type": "code",
   "execution_count": 262,
   "metadata": {},
   "outputs": [],
   "source": [
    "que.popright()"
   ]
  },
  {
   "cell_type": "code",
   "execution_count": 279,
   "metadata": {},
   "outputs": [
    {
     "data": {
      "text/plain": [
       "[None, None, None, None, None]"
      ]
     },
     "execution_count": 279,
     "metadata": {},
     "output_type": "execute_result"
    }
   ],
   "source": [
    "que.fila"
   ]
  },
  {
   "cell_type": "code",
   "execution_count": null,
   "metadata": {},
   "outputs": [],
   "source": []
  }
 ],
 "metadata": {
  "kernelspec": {
   "display_name": "Python 3",
   "language": "python",
   "name": "python3"
  },
  "language_info": {
   "codemirror_mode": {
    "name": "ipython",
    "version": 3
   },
   "file_extension": ".py",
   "mimetype": "text/x-python",
   "name": "python",
   "nbconvert_exporter": "python",
   "pygments_lexer": "ipython3",
   "version": "3.10.6"
  },
  "orig_nbformat": 4,
  "vscode": {
   "interpreter": {
    "hash": "916dbcbb3f70747c44a77c7bcd40155683ae19c65e1c03b4aa3499c5328201f1"
   }
  }
 },
 "nbformat": 4,
 "nbformat_minor": 2
}
